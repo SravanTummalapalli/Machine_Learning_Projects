{
 "cells": [
  {
   "cell_type": "markdown",
   "id": "7cbf89eb-668d-491b-8768-0c6165ce5d43",
   "metadata": {},
   "source": [
    "# Netflix Stock Price Prediction"
   ]
  },
  {
   "cell_type": "markdown",
   "id": "3141102f-664a-4c2b-a9fc-6dadd3d75adb",
   "metadata": {},
   "source": [
    "Netflix is one of the most popular OTT streaming platforms. It offers a vast collection of television series and films and owns its productions know as Netflix Originals. People who are higly active in stock market investments always keep an eyes on companies like Netflix because of its popularity. If you are one of them who would like to learn about how to predict the stock prices of Netflix with Machine Learning."
   ]
  },
  {
   "cell_type": "markdown",
   "id": "994387f2-9e4f-4c5e-8252-ed333f5fe59f",
   "metadata": {},
   "source": [
    "To predict the stock prices of netflix with machine learning, i will be using LSTM neural network as it is one of the best approaches for regression analysis and time series forecasting."
   ]
  },
  {
   "cell_type": "code",
   "execution_count": 8,
   "id": "b2b5e7d8-4371-4bbc-a55a-bd3863499697",
   "metadata": {},
   "outputs": [],
   "source": [
    "import pandas as pd\n",
    "import numpy as np\n",
    "import yfinance as yf\n",
    "import datetime\n",
    "from datetime import date, timedelta\n",
    "import plotly.graph_objects as go"
   ]
  },
  {
   "cell_type": "code",
   "execution_count": 4,
   "id": "97ec9551-79bf-4424-afa7-873d99aaba6b",
   "metadata": {},
   "outputs": [],
   "source": [
    "today= date.today()\n",
    "\n",
    "d1= today.strftime(\"%Y-%m-%d\")\n",
    "end_date= d1\n",
    "d2= date.today()- timedelta(days=5000)\n",
    "d2= d2.strftime(\"%Y-%m-%d\")\n",
    "start_date= d2"
   ]
  },
  {
   "cell_type": "code",
   "execution_count": 7,
   "id": "0c11cce3-b91f-4b8f-8554-77376421afc5",
   "metadata": {},
   "outputs": [
    {
     "data": {
      "text/html": [
       "<div>\n",
       "<style scoped>\n",
       "    .dataframe tbody tr th:only-of-type {\n",
       "        vertical-align: middle;\n",
       "    }\n",
       "\n",
       "    .dataframe tbody tr th {\n",
       "        vertical-align: top;\n",
       "    }\n",
       "\n",
       "    .dataframe thead th {\n",
       "        text-align: right;\n",
       "    }\n",
       "</style>\n",
       "<table border=\"1\" class=\"dataframe\">\n",
       "  <thead>\n",
       "    <tr style=\"text-align: right;\">\n",
       "      <th></th>\n",
       "      <th>Open</th>\n",
       "      <th>High</th>\n",
       "      <th>Low</th>\n",
       "      <th>Close</th>\n",
       "      <th>Adj Close</th>\n",
       "      <th>Volume</th>\n",
       "      <th>Date</th>\n",
       "    </tr>\n",
       "  </thead>\n",
       "  <tbody>\n",
       "    <tr>\n",
       "      <th>0</th>\n",
       "      <td>27.352858</td>\n",
       "      <td>27.834286</td>\n",
       "      <td>27.081429</td>\n",
       "      <td>27.668571</td>\n",
       "      <td>27.668571</td>\n",
       "      <td>18580800</td>\n",
       "      <td>2011-01-18</td>\n",
       "    </tr>\n",
       "    <tr>\n",
       "      <th>1</th>\n",
       "      <td>27.544287</td>\n",
       "      <td>27.692858</td>\n",
       "      <td>27.002857</td>\n",
       "      <td>27.267143</td>\n",
       "      <td>27.267143</td>\n",
       "      <td>21740600</td>\n",
       "      <td>2011-01-19</td>\n",
       "    </tr>\n",
       "    <tr>\n",
       "      <th>2</th>\n",
       "      <td>26.688572</td>\n",
       "      <td>26.889999</td>\n",
       "      <td>25.900000</td>\n",
       "      <td>26.428572</td>\n",
       "      <td>26.428572</td>\n",
       "      <td>38231200</td>\n",
       "      <td>2011-01-20</td>\n",
       "    </tr>\n",
       "    <tr>\n",
       "      <th>3</th>\n",
       "      <td>26.408571</td>\n",
       "      <td>26.511429</td>\n",
       "      <td>25.955713</td>\n",
       "      <td>26.012857</td>\n",
       "      <td>26.012857</td>\n",
       "      <td>24908100</td>\n",
       "      <td>2011-01-21</td>\n",
       "    </tr>\n",
       "    <tr>\n",
       "      <th>4</th>\n",
       "      <td>25.712856</td>\n",
       "      <td>26.345715</td>\n",
       "      <td>25.152857</td>\n",
       "      <td>26.280001</td>\n",
       "      <td>26.280001</td>\n",
       "      <td>26971700</td>\n",
       "      <td>2011-01-24</td>\n",
       "    </tr>\n",
       "  </tbody>\n",
       "</table>\n",
       "</div>"
      ],
      "text/plain": [
       "        Open       High        Low      Close  Adj Close    Volume       Date\n",
       "0  27.352858  27.834286  27.081429  27.668571  27.668571  18580800 2011-01-18\n",
       "1  27.544287  27.692858  27.002857  27.267143  27.267143  21740600 2011-01-19\n",
       "2  26.688572  26.889999  25.900000  26.428572  26.428572  38231200 2011-01-20\n",
       "3  26.408571  26.511429  25.955713  26.012857  26.012857  24908100 2011-01-21\n",
       "4  25.712856  26.345715  25.152857  26.280001  26.280001  26971700 2011-01-24"
      ]
     },
     "execution_count": 7,
     "metadata": {},
     "output_type": "execute_result"
    }
   ],
   "source": [
    "data= yf.download(\"NFLX\", start= start_date, end= end_date, progress=False)\n",
    "data[\"Date\"]= data.index\n",
    "data.reset_index(drop= True, inplace= True)\n",
    "data.head()"
   ]
  },
  {
   "cell_type": "markdown",
   "id": "6666d10d-73ba-4510-bca7-c36c67ae42b0",
   "metadata": {},
   "source": [
    "The above dataset is collected using the yfinance API in Python. Now let's visulize the stock price data of Netflix by using a candlestick chart as it gives a clear picture of the increase and decrease of stock prices: "
   ]
  },
  {
   "cell_type": "code",
   "execution_count": 9,
   "id": "d2f872c6-28f1-43e0-b638-00f004abba40",
   "metadata": {},
   "outputs": [
    {
     "ename": "TypeError",
     "evalue": "type 'datetime.date' is not subscriptable",
     "output_type": "error",
     "traceback": [
      "\u001b[0;31m---------------------------------------------------------------------------\u001b[0m",
      "\u001b[0;31mTypeError\u001b[0m                                 Traceback (most recent call last)",
      "Cell \u001b[0;32mIn[9], line 1\u001b[0m\n\u001b[0;32m----> 1\u001b[0m figure\u001b[38;5;241m=\u001b[39m go\u001b[38;5;241m.\u001b[39mFigure(data\u001b[38;5;241m=\u001b[39m [go\u001b[38;5;241m.\u001b[39mCandlestick(x\u001b[38;5;241m=\u001b[39mdata[\u001b[38;5;124m\"\u001b[39m\u001b[38;5;124mDate\u001b[39m\u001b[38;5;124m\"\u001b[39m], \u001b[38;5;28mopen\u001b[39m\u001b[38;5;241m=\u001b[39m data[\u001b[38;5;124m\"\u001b[39m\u001b[38;5;124mOpen\u001b[39m\u001b[38;5;124m\"\u001b[39m], high\u001b[38;5;241m=\u001b[39m date[\u001b[38;5;124m\"\u001b[39m\u001b[38;5;124mHigh\u001b[39m\u001b[38;5;124m\"\u001b[39m],\n\u001b[1;32m      2\u001b[0m                                         low\u001b[38;5;241m=\u001b[39mdata[\u001b[38;5;124m\"\u001b[39m\u001b[38;5;124mLow\u001b[39m\u001b[38;5;124m\"\u001b[39m], close\u001b[38;5;241m=\u001b[39mdata[\u001b[38;5;124m\"\u001b[39m\u001b[38;5;124mClose\u001b[39m\u001b[38;5;124m\"\u001b[39m])])\n\u001b[1;32m      4\u001b[0m figure\u001b[38;5;241m.\u001b[39mupdate_layout(title\u001b[38;5;241m=\u001b[39m \u001b[38;5;124m\"\u001b[39m\u001b[38;5;124mNetflix Stock Price Analysis\u001b[39m\u001b[38;5;124m\"\u001b[39m, xaxis_rangeslider_visible\u001b[38;5;241m=\u001b[39m \u001b[38;5;28;01mFalse\u001b[39;00m)\n\u001b[1;32m      6\u001b[0m figure\u001b[38;5;241m.\u001b[39mshow()\n",
      "\u001b[0;31mTypeError\u001b[0m: type 'datetime.date' is not subscriptable"
     ]
    }
   ],
   "source": [
    "figure= go.Figure(data= [go.Candlestick(x=data[\"Date\"], open= data[\"Open\"], high= date[\"High\"],\n",
    "                                        low=data[\"Low\"], close=data[\"Close\"])])\n",
    "\n",
    "figure.update_layout(title= \"Netflix Stock Price Analysis\", xaxis_rangeslider_visible= False)\n",
    "\n",
    "figure.show()\n",
    "\n",
    "\n",
    "figure = go.Figure(data=[go.Candlestick(x=data[\"Date\"],\n",
    "                                        open=data[\"Open\"],\n",
    "                                        high=data[\"High\"],\n",
    "                                        low=data[\"Low\"],\n",
    "                                        close=data[\"Close\"])])"
   ]
  }
 ],
 "metadata": {
  "kernelspec": {
   "display_name": "Python 3 (ipykernel)",
   "language": "python",
   "name": "python3"
  },
  "language_info": {
   "codemirror_mode": {
    "name": "ipython",
    "version": 3
   },
   "file_extension": ".py",
   "mimetype": "text/x-python",
   "name": "python",
   "nbconvert_exporter": "python",
   "pygments_lexer": "ipython3",
   "version": "3.11.7"
  },
  "widgets": {
   "application/vnd.jupyter.widget-state+json": {
    "state": {},
    "version_major": 2,
    "version_minor": 0
   }
  }
 },
 "nbformat": 4,
 "nbformat_minor": 5
}
