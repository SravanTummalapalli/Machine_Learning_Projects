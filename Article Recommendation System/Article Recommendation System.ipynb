{
 "cells": [
  {
   "cell_type": "markdown",
   "id": "669c68a0-de8e-44e4-a1c1-1e38c0eea8a8",
   "metadata": {},
   "source": [
    "# Article Recommendation System"
   ]
  },
  {
   "cell_type": "markdown",
   "id": "5b323512-76ec-4cb0-bcb8-3c13f836766a",
   "metadata": {},
   "source": [
    "A recommendation system is one of the application of data science that is used by most any application or website today. Many websites today use a recommendation system to recommend articles to their readers. For example, Medium.com and even the website you are currently reading this article on is also using a recommendation system to recommend articles to its readers"
   ]
  },
  {
   "cell_type": "markdown",
   "id": "06834981-0f02-4f87-8a9f-bc7b5ecc19aa",
   "metadata": {},
   "source": [
    "There are many ways to create recommendation system. To create an articles recommendation system, we need to focus on content rather than user interest. For example, if a user reads an article based on clustering, all recommended articles should also be based on clustering. So to recommend articles based on the content.\n",
    "\n",
    "1. We need to understand the content of the article\n",
    "2. Match the content with all the other articles\n",
    "3. And recommend the most suitable articles for the article that the read is already reading\n",
    "\n",
    "For this task, we can use the concept of cosine similarity in machine learning. Cosine similarity is a method of building recommendation systems based on the content. It is used to find similarities between two different pieces of text documents. So we can use cosine similarity to build an article recommendation system."
   ]
  },
  {
   "cell_type": "markdown",
   "id": "65967e96-ddcb-47c5-ad01-6a5b3a297cb9",
   "metadata": {},
   "source": [
    "To create an article recommendation system, collected data about some of the articles on this website itself."
   ]
  },
  {
   "cell_type": "code",
   "execution_count": 7,
   "id": "a17490f5-5843-425a-a4fb-6717879d47ad",
   "metadata": {},
   "outputs": [],
   "source": [
    "import numpy as np\n",
    "import pandas as pd\n",
    "from sklearn.feature_extraction import text\n",
    "from sklearn.feature_extraction.text import TfidfVectorizer\n",
    "from sklearn.metrics.pairwise import cosine_similarity"
   ]
  },
  {
   "cell_type": "code",
   "execution_count": 3,
   "id": "eade24f8-7726-4893-a105-94e153465bab",
   "metadata": {},
   "outputs": [],
   "source": [
    "data= pd.read_csv(\"articles.csv\")"
   ]
  },
  {
   "cell_type": "code",
   "execution_count": 4,
   "id": "817941a0-82e8-491b-9a38-9afd77d8cf0d",
   "metadata": {},
   "outputs": [
    {
     "data": {
      "text/html": [
       "<div>\n",
       "<style scoped>\n",
       "    .dataframe tbody tr th:only-of-type {\n",
       "        vertical-align: middle;\n",
       "    }\n",
       "\n",
       "    .dataframe tbody tr th {\n",
       "        vertical-align: top;\n",
       "    }\n",
       "\n",
       "    .dataframe thead th {\n",
       "        text-align: right;\n",
       "    }\n",
       "</style>\n",
       "<table border=\"1\" class=\"dataframe\">\n",
       "  <thead>\n",
       "    <tr style=\"text-align: right;\">\n",
       "      <th></th>\n",
       "      <th>Article</th>\n",
       "      <th>Title</th>\n",
       "    </tr>\n",
       "  </thead>\n",
       "  <tbody>\n",
       "    <tr>\n",
       "      <th>0</th>\n",
       "      <td>Data analysis is the process of inspecting and...</td>\n",
       "      <td>Best Books to Learn Data Analysis</td>\n",
       "    </tr>\n",
       "    <tr>\n",
       "      <th>1</th>\n",
       "      <td>The performance of a machine learning algorith...</td>\n",
       "      <td>Assumptions of Machine Learning Algorithms</td>\n",
       "    </tr>\n",
       "    <tr>\n",
       "      <th>2</th>\n",
       "      <td>You must have seen the news divided into categ...</td>\n",
       "      <td>News Classification with Machine Learning</td>\n",
       "    </tr>\n",
       "    <tr>\n",
       "      <th>3</th>\n",
       "      <td>When there are only two classes in a classific...</td>\n",
       "      <td>Multiclass Classification Algorithms in Machin...</td>\n",
       "    </tr>\n",
       "    <tr>\n",
       "      <th>4</th>\n",
       "      <td>The Multinomial Naive Bayes is one of the vari...</td>\n",
       "      <td>Multinomial Naive Bayes in Machine Learning</td>\n",
       "    </tr>\n",
       "  </tbody>\n",
       "</table>\n",
       "</div>"
      ],
      "text/plain": [
       "                                             Article  \\\n",
       "0  Data analysis is the process of inspecting and...   \n",
       "1  The performance of a machine learning algorith...   \n",
       "2  You must have seen the news divided into categ...   \n",
       "3  When there are only two classes in a classific...   \n",
       "4  The Multinomial Naive Bayes is one of the vari...   \n",
       "\n",
       "                                               Title  \n",
       "0                  Best Books to Learn Data Analysis  \n",
       "1         Assumptions of Machine Learning Algorithms  \n",
       "2          News Classification with Machine Learning  \n",
       "3  Multiclass Classification Algorithms in Machin...  \n",
       "4        Multinomial Naive Bayes in Machine Learning  "
      ]
     },
     "execution_count": 4,
     "metadata": {},
     "output_type": "execute_result"
    }
   ],
   "source": [
    "data.head()"
   ]
  },
  {
   "cell_type": "markdown",
   "id": "cba7ca56-9c7f-4e69-85e8-bfb589c4d88e",
   "metadata": {},
   "source": [
    "This dataset is completely ready to use to create a recommender system, so let's use the cosine similarity algorithm and write a Python function to recommend articles:"
   ]
  },
  {
   "cell_type": "code",
   "execution_count": 9,
   "id": "029bcdb4-afa2-48fb-8e27-9d7662dab52d",
   "metadata": {},
   "outputs": [],
   "source": [
    "articles= data[\"Article\"].tolist()\n",
    "uni_tfidf= text.TfidfVectorizer(stop_words= \"english\")\n",
    "uni_matrix= uni_tfidf.fit_transform(articles)\n",
    "uni_sim= cosine_similarity(uni_matrix)"
   ]
  },
  {
   "cell_type": "code",
   "execution_count": 11,
   "id": "0196c68e-9826-4cda-b9d2-1fea04f2d12c",
   "metadata": {},
   "outputs": [
    {
     "data": {
      "text/html": [
       "<div>\n",
       "<style scoped>\n",
       "    .dataframe tbody tr th:only-of-type {\n",
       "        vertical-align: middle;\n",
       "    }\n",
       "\n",
       "    .dataframe tbody tr th {\n",
       "        vertical-align: top;\n",
       "    }\n",
       "\n",
       "    .dataframe thead th {\n",
       "        text-align: right;\n",
       "    }\n",
       "</style>\n",
       "<table border=\"1\" class=\"dataframe\">\n",
       "  <thead>\n",
       "    <tr style=\"text-align: right;\">\n",
       "      <th></th>\n",
       "      <th>Article</th>\n",
       "      <th>Title</th>\n",
       "      <th>Recommended Articles</th>\n",
       "    </tr>\n",
       "  </thead>\n",
       "  <tbody>\n",
       "    <tr>\n",
       "      <th>0</th>\n",
       "      <td>Data analysis is the process of inspecting and...</td>\n",
       "      <td>Best Books to Learn Data Analysis</td>\n",
       "      <td>Introduction to Recommendation Systems , Best ...</td>\n",
       "    </tr>\n",
       "    <tr>\n",
       "      <th>1</th>\n",
       "      <td>The performance of a machine learning algorith...</td>\n",
       "      <td>Assumptions of Machine Learning Algorithms</td>\n",
       "      <td>Applications of Deep Learning , Best Books to ...</td>\n",
       "    </tr>\n",
       "    <tr>\n",
       "      <th>2</th>\n",
       "      <td>You must have seen the news divided into categ...</td>\n",
       "      <td>News Classification with Machine Learning</td>\n",
       "      <td>Language Detection with Machine Learning , App...</td>\n",
       "    </tr>\n",
       "    <tr>\n",
       "      <th>3</th>\n",
       "      <td>When there are only two classes in a classific...</td>\n",
       "      <td>Multiclass Classification Algorithms in Machin...</td>\n",
       "      <td>Assumptions of Machine Learning Algorithms , B...</td>\n",
       "    </tr>\n",
       "    <tr>\n",
       "      <th>4</th>\n",
       "      <td>The Multinomial Naive Bayes is one of the vari...</td>\n",
       "      <td>Multinomial Naive Bayes in Machine Learning</td>\n",
       "      <td>Assumptions of Machine Learning Algorithms , M...</td>\n",
       "    </tr>\n",
       "  </tbody>\n",
       "</table>\n",
       "</div>"
      ],
      "text/plain": [
       "                                             Article  \\\n",
       "0  Data analysis is the process of inspecting and...   \n",
       "1  The performance of a machine learning algorith...   \n",
       "2  You must have seen the news divided into categ...   \n",
       "3  When there are only two classes in a classific...   \n",
       "4  The Multinomial Naive Bayes is one of the vari...   \n",
       "\n",
       "                                               Title  \\\n",
       "0                  Best Books to Learn Data Analysis   \n",
       "1         Assumptions of Machine Learning Algorithms   \n",
       "2          News Classification with Machine Learning   \n",
       "3  Multiclass Classification Algorithms in Machin...   \n",
       "4        Multinomial Naive Bayes in Machine Learning   \n",
       "\n",
       "                                Recommended Articles  \n",
       "0  Introduction to Recommendation Systems , Best ...  \n",
       "1  Applications of Deep Learning , Best Books to ...  \n",
       "2  Language Detection with Machine Learning , App...  \n",
       "3  Assumptions of Machine Learning Algorithms , B...  \n",
       "4  Assumptions of Machine Learning Algorithms , M...  "
      ]
     },
     "execution_count": 11,
     "metadata": {},
     "output_type": "execute_result"
    }
   ],
   "source": [
    "def recommend_articles(x):\n",
    "    return \" , \".join(data[\"Title\"].loc[x.argsort()[-5:-1]])\n",
    "\n",
    "data[\"Recommended Articles\"]=  [recommend_articles(x) for x in uni_sim]\n",
    "data.head()"
   ]
  },
  {
   "cell_type": "markdown",
   "id": "3694632e-0057-4361-aaf8-aad8a81e20cf",
   "metadata": {},
   "source": [
    "As you can see from the output above, a new column has been added to the dataset that contains the titles of all the recommended articles. Now let's see all the recommendations for an article:"
   ]
  },
  {
   "cell_type": "code",
   "execution_count": 12,
   "id": "a3a2b120-04fa-4b40-ad74-2ec73480ce2d",
   "metadata": {},
   "outputs": [
    {
     "name": "stdout",
     "output_type": "stream",
     "text": [
      "Clustering Algorithms in Machine Learning , Applications of Deep Learning , Best Books to Learn Deep Learning , Assumptions of Machine Learning Algorithms\n"
     ]
    }
   ],
   "source": [
    "print(data[\"Recommended Articles\"][31])"
   ]
  },
  {
   "cell_type": "markdown",
   "id": "a1a917a1-4af7-438f-a022-7626fe6d965e",
   "metadata": {},
   "source": [
    "Index contain 31 an article on \"Clustering Algorithm\", and all the recommended articles are also based on the concepts of clustering. SO we can say that this recommender system can also give great results in real-time."
   ]
  },
  {
   "cell_type": "markdown",
   "id": "cefb8fe7-c0a9-4f26-8803-5229114822c8",
   "metadata": {},
   "source": [
    "## Summary:"
   ]
  },
  {
   "cell_type": "markdown",
   "id": "ec88cfa0-da59-4620-96ff-a630607b76de",
   "metadata": {},
   "source": [
    "So this is how you can build an articles recommendation system. A lot of website today uses a recommendation system to recommend articles to their readers. "
   ]
  }
 ],
 "metadata": {
  "kernelspec": {
   "display_name": "Python 3 (ipykernel)",
   "language": "python",
   "name": "python3"
  },
  "language_info": {
   "codemirror_mode": {
    "name": "ipython",
    "version": 3
   },
   "file_extension": ".py",
   "mimetype": "text/x-python",
   "name": "python",
   "nbconvert_exporter": "python",
   "pygments_lexer": "ipython3",
   "version": "3.11.7"
  },
  "widgets": {
   "application/vnd.jupyter.widget-state+json": {
    "state": {},
    "version_major": 2,
    "version_minor": 0
   }
  }
 },
 "nbformat": 4,
 "nbformat_minor": 5
}
